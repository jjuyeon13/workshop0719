{
 "cells": [
  {
   "cell_type": "markdown",
   "id": "de4b0fff",
   "metadata": {},
   "source": [
    "# ✔ 데이터 분석과 로그스케일\n",
    "\n",
    "### 1. 수업 목표\n",
    "- 우리 주변 실생활 문제의 이해\n",
    "- 데이터의 수집과 활용 및 분석\n",
    "- 로그 스케일의 뜻, 장단점, 활용분야 파악\n",
    "    \n",
    "### 2. 수업 목차\n",
    " - 1차시<br>\n",
    "    우리 주변의 문제점 발견을 통한 주제 선정<br>\n",
    "    주제 관련 자료 조사\n",
    " - 2차시<br>\n",
    "    우리 지역의 데이터 수집<br>\n",
    "    데이터 분석<br>\n",
    "    원하는 데이터만 추출\n",
    " - 3차시<br>\n",
    "    그래프 시각화<br>\n",
    "    y축을 로그스케일로 표현하는 그래프 그리기<br>\n",
    "    로그스케일 자료 조사"
   ]
  },
  {
   "cell_type": "markdown",
   "id": "4428ce02",
   "metadata": {},
   "source": [
    "## ✔ 1차시 : 우리 주변의 문제점 발견과 자료 수집하기\n",
    "\n",
    "#### 1. 진로나 관심 분야가 비슷한 친구들끼리 조를 지어보자."
   ]
  },
  {
   "cell_type": "code",
   "execution_count": 2,
   "id": "50f84d6a",
   "metadata": {
    "code_folding": [],
    "scrolled": false
   },
   "outputs": [
    {
     "name": "stdout",
     "output_type": "stream",
     "text": [
      "학번을 입력하세요.20827\n",
      "이름을 입력하세요.손주연\n",
      "진로나 관심 분야를 입력하세요.수학\n",
      "조 이름을 입력하세요.밥사조\n"
     ]
    }
   ],
   "source": [
    "classnumber = input(\"학번을 입력하세요.\")\n",
    "name = input(\"이름을 입력하세요.\")\n",
    "interest = input(\"진로나 관심 분야를 입력하세요.\")\n",
    "group = input(\"조 이름을 입력하세요.\")"
   ]
  },
  {
   "cell_type": "markdown",
   "id": "5389c046",
   "metadata": {},
   "source": [
    "#### 2. 조별로 평소 우리 주변에서 발견할 수 있는 문제점들에는 어떤 것들이 있는지 신문 기사 분석 및 본인의 생각을 담아 적어보자."
   ]
  },
  {
   "cell_type": "code",
   "execution_count": 6,
   "id": "f94e6360",
   "metadata": {},
   "outputs": [
    {
     "name": "stdout",
     "output_type": "stream",
     "text": [
      "우리 주변에서 발견할 수 있는 문제점들에는 어떤 것들이 있는지 구체적으로 적어보세요.뭐가 있을까요\n",
      "문제점과 관련해 조사한 신문 기사의 제목을 적어보세요.안녕하세요\n"
     ]
    }
   ],
   "source": [
    "problem = input(\"우리 주변에서 발견할 수 있는 문제점들에는 어떤 것들이 있는지 구체적으로 적어보세요.\")\n",
    "news_title = input(\"문제점과 관련해 조사한 신문 기사의 제목을 적어보세요.\")"
   ]
  },
  {
   "cell_type": "code",
   "execution_count": 8,
   "id": "5278adab",
   "metadata": {},
   "outputs": [
    {
     "data": {
      "text/html": [
       "신문 기사의 내용을 요약하여 정리하고, 본인의 생각을 함께 정리하세요.\n",
       "<textarea name=\"message\" rows=\"10\" cols=\"100\">\n",
       "</textarea>\n"
      ],
      "text/plain": [
       "<IPython.core.display.HTML object>"
      ]
     },
     "metadata": {},
     "output_type": "display_data"
    }
   ],
   "source": [
    "%%HTML\n",
    "신문 기사의 내용을 요약하여 정리하고, 본인의 생각을 함께 정리하세요.\n",
    "<textarea name=\"message\" rows=\"10\" cols=\"100\">\n",
    "</textarea>"
   ]
  },
  {
   "cell_type": "markdown",
   "id": "ba40a8b5",
   "metadata": {},
   "source": [
    "#### 3. 조에서 나온 다양한 문제점들 중 하나를 골라 관련 자료를 조사해 업로드해보자."
   ]
  },
  {
   "cell_type": "code",
   "execution_count": 3,
   "id": "ee80d3a3",
   "metadata": {
    "code_folding": []
   },
   "outputs": [
    {
     "data": {
      "text/html": [
       "<form action='my_page.php'>\n",
       "  <input type=\"file\" id=\"file\" name=\"file\" multiple><br>\n",
       "  <input type='submit' value='제출'>\n",
       "</form>\n"
      ],
      "text/plain": [
       "<IPython.core.display.HTML object>"
      ]
     },
     "metadata": {},
     "output_type": "display_data"
    }
   ],
   "source": [
    "%%HTML\n",
    "<form action='my_page.php'>\n",
    "  <input type=\"file\" id=\"file\" name=\"file\" multiple><br>\n",
    "  <input type='submit' value='제출'>\n",
    "</form>"
   ]
  },
  {
   "cell_type": "markdown",
   "id": "00a8106a",
   "metadata": {},
   "source": [
    "<br><br><br><br>\n",
    "\n",
    "## ✔ 2차시 : 우리 주변의 데이터 수집하기\n",
    "\n",
    "#### 1. 1차시에서 조사했던 자료를 바탕으로 우리 주변의 데이터를 수집해보자."
   ]
  },
  {
   "cell_type": "code",
   "execution_count": 4,
   "id": "2420d954",
   "metadata": {
    "code_folding": [],
    "scrolled": true
   },
   "outputs": [
    {
     "data": {
      "text/html": [
       "참고사이트 : <a href=\"https://data.gg.go.kr/portal/mainPage.do\">경기데이터공공포털</a>\n"
      ],
      "text/plain": [
       "<IPython.core.display.HTML object>"
      ]
     },
     "metadata": {},
     "output_type": "display_data"
    }
   ],
   "source": [
    "%%HTML\n",
    "참고사이트 : <a href=\"https://data.gg.go.kr/portal/mainPage.do\">경기데이터공공포털</a>"
   ]
  },
  {
   "cell_type": "markdown",
   "id": "f842cef7",
   "metadata": {},
   "source": [
    "#### 2. 조사한 데이터를 업로드해보자."
   ]
  },
  {
   "cell_type": "code",
   "execution_count": 5,
   "id": "84392a9d",
   "metadata": {
    "code_folding": [],
    "scrolled": true
   },
   "outputs": [
    {
     "data": {
      "text/html": [
       "<form action='my_page.php'>\n",
       "  <input type=\"file\" id=\"file\" name=\"file\" multiple><br>\n",
       "  <input type='submit' value='제출'>\n",
       "</form>\n"
      ],
      "text/plain": [
       "<IPython.core.display.HTML object>"
      ]
     },
     "metadata": {},
     "output_type": "display_data"
    }
   ],
   "source": [
    "%%HTML\n",
    "<form action='my_page.php'>\n",
    "  <input type=\"file\" id=\"file\" name=\"file\" multiple><br>\n",
    "  <input type='submit' value='제출'>\n",
    "</form>"
   ]
  },
  {
   "cell_type": "markdown",
   "id": "d6d3c98e",
   "metadata": {},
   "source": [
    "#### 3. 업로드한 데이터를 불러들여 코딩을 통해 다양하게 분류해보자."
   ]
  },
  {
   "cell_type": "code",
   "execution_count": 7,
   "id": "6791135e",
   "metadata": {
    "code_folding": [],
    "scrolled": true
   },
   "outputs": [
    {
     "name": "stdout",
     "output_type": "stream",
     "text": [
      "     회계연도  시군명        세목명      세출결산액(원)\n",
      "0    2017  용인시        인건비  160481792125\n",
      "1    2017  용인시      반환금기타    9320767730\n",
      "2    2017  용인시         여비    6110695660\n",
      "3    2017  용인시      업무추진비    2009470910\n",
      "4    2017  용인시     직무수행경비    5968459730\n",
      "..    ...  ...        ...           ...\n",
      "475  2002  용인시      차입금이자    8920760660\n",
      "476  2002  용인시    시설비및부대비  749209751820\n",
      "477  2002  용인시     민간자본이전   32213464820\n",
      "478  2002  용인시  자치단체등자본이전    2639127340\n",
      "479  2002  용인시        융자금      80000000\n",
      "\n",
      "[480 rows x 4 columns]\n",
      "<class 'pandas.core.frame.DataFrame'>\n",
      "RangeIndex: 480 entries, 0 to 479\n",
      "Data columns (total 4 columns):\n",
      " #   Column    Non-Null Count  Dtype \n",
      "---  ------    --------------  ----- \n",
      " 0   회계연도      480 non-null    int64 \n",
      " 1   시군명       480 non-null    object\n",
      " 2   세목명       480 non-null    object\n",
      " 3   세출결산액(원)  480 non-null    int64 \n",
      "dtypes: int64(2), object(2)\n",
      "memory usage: 15.1+ KB\n",
      "None\n",
      "     회계연도  시군명      세목명       세출결산액(원)\n",
      "175  2012  용인시  시설비및부대비  1099488702840\n",
      "202  2011  용인시  시설비및부대비  1049037153380\n",
      "233  2010  용인시  시설비및부대비  1163071936480\n",
      "253  2009  용인시  시설비및부대비  1527306390388\n",
      "279  2008  용인시  시설비및부대비  1377669090600\n",
      "319  2007  용인시  시설비및부대비  1414016311700\n",
      "357  2006  용인시  시설비및부대비  1471962096598\n",
      "384  2005  용인시  시설비및부대비  1231089878060\n",
      "413  2004  용인시  시설비및부대비  1109940225400\n",
      "     회계연도  시군명 세목명     세출결산액(원)\n",
      "2    2017  용인시  여비   6110695660\n",
      "33   2016  용인시  여비   4968921200\n",
      "65   2015  용인시  여비   3791331820\n",
      "97   2014  용인시  여비   2925706210\n",
      "131  2013  용인시  여비   7356470400\n",
      "190  2012  용인시  여비   7552533500\n",
      "217  2011  용인시  여비   8752479460\n",
      "250  2010  용인시  여비   8873486480\n",
      "256  2009  용인시  여비   8635595500\n",
      "295  2008  용인시  여비  10325397980\n",
      "322  2007  용인시  여비   9299533640\n",
      "341  2006  용인시  여비   7786901400\n",
      "369  2005  용인시  여비   5012515720\n",
      "397  2004  용인시  여비   4903711960\n",
      "448  2003  용인시  여비   4330515700\n",
      "461  2002  용인시  여비   3522474700\n"
     ]
    }
   ],
   "source": [
    "#코드 예시자료\n",
    "\n",
    "#데이터를 저장하고 처리\n",
    "import pandas as pd\n",
    "\n",
    "#파일 불러들이기\n",
    "df = pd.read_csv(\"용인시 성질별단체별세출결산현황.csv\",encoding=\"cp949\")\n",
    "\n",
    "#파일 내용 보기\n",
    "print(df)\n",
    "\n",
    "#파일 정보 보기\n",
    "print(df.info())\n",
    "\n",
    "#특정 열 지정하여 평균 계산하기\n",
    "df[\"세출결산액(원)\"].mean()\n",
    "\n",
    "#행, 열간의 상관계수 계산하기\n",
    "df.corr()\n",
    "\n",
    "#특정 열의 정보 보기(1) : 세출결산액이 1조가 넘는것만 추출\n",
    "over=df[df[\"세출결산액(원)\"]>1000000000000]\n",
    "print(over)\n",
    "\n",
    "#특정 열의 정보 보기(2) : 세목명이 여비인것만 추출\n",
    "cost=df[df[\"세목명\"]==\"여비\"]\n",
    "print(cost)"
   ]
  },
  {
   "cell_type": "code",
   "execution_count": null,
   "id": "1384cf00",
   "metadata": {},
   "outputs": [],
   "source": [
    "#직접 코드 작성해보기"
   ]
  },
  {
   "cell_type": "markdown",
   "id": "fca3a270",
   "metadata": {},
   "source": [
    "#### 4. 원하는 데이터를 추출하는 코드를 작성해보자."
   ]
  },
  {
   "cell_type": "code",
   "execution_count": 8,
   "id": "c3073543",
   "metadata": {
    "code_folding": [],
    "scrolled": false
   },
   "outputs": [
    {
     "name": "stdout",
     "output_type": "stream",
     "text": [
      "원하는 세목명을 입력하세요.여비\n",
      "원하는 회계연도를 입력하세요.2006\n"
     ]
    },
    {
     "data": {
      "text/html": [
       "<div>\n",
       "<style scoped>\n",
       "    .dataframe tbody tr th:only-of-type {\n",
       "        vertical-align: middle;\n",
       "    }\n",
       "\n",
       "    .dataframe tbody tr th {\n",
       "        vertical-align: top;\n",
       "    }\n",
       "\n",
       "    .dataframe thead th {\n",
       "        text-align: right;\n",
       "    }\n",
       "</style>\n",
       "<table border=\"1\" class=\"dataframe\">\n",
       "  <thead>\n",
       "    <tr style=\"text-align: right;\">\n",
       "      <th></th>\n",
       "      <th>회계연도</th>\n",
       "      <th>시군명</th>\n",
       "      <th>세목명</th>\n",
       "      <th>세출결산액(원)</th>\n",
       "    </tr>\n",
       "  </thead>\n",
       "  <tbody>\n",
       "    <tr>\n",
       "      <th>341</th>\n",
       "      <td>2006</td>\n",
       "      <td>용인시</td>\n",
       "      <td>여비</td>\n",
       "      <td>7786901400</td>\n",
       "    </tr>\n",
       "  </tbody>\n",
       "</table>\n",
       "</div>"
      ],
      "text/plain": [
       "     회계연도  시군명 세목명    세출결산액(원)\n",
       "341  2006  용인시  여비  7786901400"
      ]
     },
     "execution_count": 8,
     "metadata": {},
     "output_type": "execute_result"
    }
   ],
   "source": [
    "#코드 예시자료\n",
    "\n",
    "#도구 불러오기\n",
    "import pandas as pd\n",
    "\n",
    "#데이터 불러오기\n",
    "세목명 = df[\"세목명\"]\n",
    "세출결산액 = df[\"세출결산액(원)\"]\n",
    "\n",
    "#원하는 데이터 받기\n",
    "세목명 = input(\"원하는 세목명을 입력하세요.\")\n",
    "회계연도 = input(\"원하는 회계연도를 입력하세요.\")\n",
    "회계연도 = int(회계연도)\n",
    "\n",
    "#원하는 데이터 추출하기\n",
    "df[(df['세목명'] == 세목명) & (df['회계연도'] == 회계연도)]\n",
    "\n"
   ]
  },
  {
   "cell_type": "code",
   "execution_count": null,
   "id": "46cee1bc",
   "metadata": {},
   "outputs": [],
   "source": [
    "#직접 코드 작성해보기"
   ]
  },
  {
   "cell_type": "markdown",
   "id": "8f2694df",
   "metadata": {},
   "source": [
    "#### 5. 관찰할 수 있는 데이터의 내용을 조별로 해석해보자."
   ]
  },
  {
   "cell_type": "code",
   "execution_count": 9,
   "id": "2cef3428",
   "metadata": {
    "code_folding": []
   },
   "outputs": [
    {
     "data": {
      "text/html": [
       "<textarea name=\"message\" rows=\"10\" cols=\"100\">\n",
       "</textarea>\n"
      ],
      "text/plain": [
       "<IPython.core.display.HTML object>"
      ]
     },
     "metadata": {},
     "output_type": "display_data"
    }
   ],
   "source": [
    "%%HTML\n",
    "<textarea name=\"message\" rows=\"10\" cols=\"100\">\n",
    "</textarea>"
   ]
  },
  {
   "cell_type": "markdown",
   "id": "c3aa8401",
   "metadata": {},
   "source": [
    "<br><br><br><br>\n",
    "\n",
    "## ✔ 3차시 : 데이터 시각화하고 로그스케일 탐구하기\n",
    "\n",
    "#### 1. 로그스케일이란 무엇인지 조사해 정리해보자.\n"
   ]
  },
  {
   "cell_type": "code",
   "execution_count": 73,
   "id": "78c28d13",
   "metadata": {
    "code_folding": [],
    "scrolled": false
   },
   "outputs": [
    {
     "data": {
      "text/html": [
       "<textarea name=\"message\" rows=\"10\" cols=\"100\">\n",
       "</textarea>\n"
      ],
      "text/plain": [
       "<IPython.core.display.HTML object>"
      ]
     },
     "metadata": {},
     "output_type": "display_data"
    }
   ],
   "source": [
    "%%HTML\n",
    "<textarea name=\"message\" rows=\"10\" cols=\"100\">\n",
    "</textarea>"
   ]
  },
  {
   "cell_type": "markdown",
   "id": "6343302f",
   "metadata": {},
   "source": [
    "#### 2. 2차시에서 분석했던 데이터를 그래프로 그려보자. 또한, y축을 로그스케일로 바꾼 그래프를 그려보자."
   ]
  },
  {
   "cell_type": "code",
   "execution_count": 41,
   "id": "7c12d4cd",
   "metadata": {
    "code_folding": [],
    "scrolled": true
   },
   "outputs": [
    {
     "data": {
      "image/png": "[encoded data removed]",
      "text/plain": [
       "<Figure size 1080x720 with 1 Axes>"
      ]
     },
     "metadata": {
      "needs_background": "light"
     },
     "output_type": "display_data"
    },
    {
     "data": {
      "image/png": "[encoded data removed]",
      "text/plain": [
       "<Figure size 1080x720 with 1 Axes>"
      ]
     },
     "metadata": {
      "needs_background": "light"
     },
     "output_type": "display_data"
    }
   ],
   "source": [
    "#코드 예시자료\n",
    "\n",
    "#그래프 그리기 도구 불러오기\n",
    "import matplotlib.pyplot as plt\n",
    "import numpy as np\n",
    "\n",
    "#선형스케일 그래프\n",
    "세목명 = df[\"세목명\"]\n",
    "세출결산액 = df[\"세출결산액(원)\"]\n",
    "\n",
    "plt.figure(figsize=(15,10)) \n",
    "plt.bar(세목명, 세출결산액) \n",
    "plt.xticks(rotation=90)\n",
    "plt.show()\n",
    "\n",
    "#로그스케일 그래프\n",
    "세목명 = df[\"세목명\"]\n",
    "세출결산액 = df[\"세출결산액(원)\"]\n",
    "\n",
    "plt.figure(figsize=(15,10)) \n",
    "plt.bar(세목명, 세출결산액) \n",
    "plt.xticks(rotation=90)\n",
    "plt.yscale('log')\n",
    "plt.show()"
   ]
  },
  {
   "cell_type": "code",
   "execution_count": null,
   "id": "a333e8d1",
   "metadata": {},
   "outputs": [],
   "source": [
    "#직접 코드 작성해보기"
   ]
  },
  {
   "cell_type": "markdown",
   "id": "7e4fc65a",
   "metadata": {},
   "source": [
    "#### 3. 선형스케일 그래프와 로그스케일 그래프의 차이점을 정리해보자."
   ]
  },
  {
   "cell_type": "code",
   "execution_count": 36,
   "id": "6eb72832",
   "metadata": {
    "code_folding": []
   },
   "outputs": [
    {
     "data": {
      "text/html": [
       "<textarea name=\"message\" rows=\"10\" cols=\"100\">\n",
       "</textarea>\n"
      ],
      "text/plain": [
       "<IPython.core.display.HTML object>"
      ]
     },
     "metadata": {},
     "output_type": "display_data"
    }
   ],
   "source": [
    "%%HTML\n",
    "<textarea name=\"message\" rows=\"10\" cols=\"100\">\n",
    "</textarea>"
   ]
  },
  {
   "cell_type": "markdown",
   "id": "091b52f4",
   "metadata": {},
   "source": [
    "#### 4. 로그스케일 활용의 장단점과 활용 분야에 대해 조별로 토론하여 정리해보자."
   ]
  },
  {
   "cell_type": "code",
   "execution_count": 72,
   "id": "35313185",
   "metadata": {
    "code_folding": [],
    "scrolled": false
   },
   "outputs": [
    {
     "data": {
      "text/html": [
       "<textarea name=\"message\" rows=\"10\" cols=\"100\">\n",
       "</textarea>\n"
      ],
      "text/plain": [
       "<IPython.core.display.HTML object>"
      ]
     },
     "metadata": {},
     "output_type": "display_data"
    }
   ],
   "source": [
    "%%HTML\n",
    "<textarea name=\"message\" rows=\"10\" cols=\"100\">\n",
    "</textarea>"
   ]
  }
 ],
 "metadata": {
  "kernelspec": {
   "display_name": "Python 3 (ipykernel)",
   "language": "python",
   "name": "python3"
  },
  "language_info": {
   "codemirror_mode": {
    "name": "ipython",
    "version": 3
   },
   "file_extension": ".py",
   "mimetype": "text/x-python",
   "name": "python",
   "nbconvert_exporter": "python",
   "pygments_lexer": "ipython3",
   "version": "3.9.7"
  }
 },
 "nbformat": 4,
 "nbformat_minor": 5
}
